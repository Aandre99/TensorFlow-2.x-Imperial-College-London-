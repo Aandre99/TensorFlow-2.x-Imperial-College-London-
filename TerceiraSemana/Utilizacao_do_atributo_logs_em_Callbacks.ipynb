{
  "nbformat": 4,
  "nbformat_minor": 0,
  "metadata": {
    "kernelspec": {
      "display_name": "Python 3",
      "language": "python",
      "name": "python3"
    },
    "language_info": {
      "codemirror_mode": {
        "name": "ipython",
        "version": 3
      },
      "file_extension": ".py",
      "mimetype": "text/x-python",
      "name": "python",
      "nbconvert_exporter": "python",
      "pygments_lexer": "ipython3",
      "version": "3.7.1"
    },
    "colab": {
      "name": "Utilização do atributo logs em Callbacks.ipynb",
      "provenance": []
    }
  },
  "cells": [
    {
      "cell_type": "markdown",
      "metadata": {
        "id": "qVIjlLdkEdwk"
      },
      "source": [
        "# Using the logs dictionary\n",
        "\n",
        "In this reading, we will learn how to take advantage of the `logs` dictionary in Keras to define our own callbacks and check the progress of a model."
      ]
    },
    {
      "cell_type": "code",
      "metadata": {
        "id": "RAdHi4P9Edw1",
        "colab": {
          "base_uri": "https://localhost:8080/"
        },
        "outputId": "c0762b8b-4bb1-483e-a3ce-d18448958b4c"
      },
      "source": [
        "import tensorflow as tf\n",
        "print(tf.__version__)"
      ],
      "execution_count": 1,
      "outputs": [
        {
          "output_type": "stream",
          "text": [
            "2.5.0\n"
          ],
          "name": "stdout"
        }
      ]
    },
    {
      "cell_type": "markdown",
      "metadata": {
        "id": "Gjb9X9KBEdw6"
      },
      "source": [
        "The `logs` dictionary stores the loss value, along with all of the metrics we are using at the end of a batch or epoch.\n",
        "\n",
        "We can incorporate information from the `logs` dictionary into our own custom callbacks.\n",
        "\n",
        "Let's see this in action in the context of a model we will construct and fit to the `sklearn` diabetes dataset that we have been using in this module.\n",
        "\n",
        "Let's first import the dataset, and split it into the training and test sets."
      ]
    },
    {
      "cell_type": "code",
      "metadata": {
        "id": "OAX6UxlZEdw8"
      },
      "source": [
        "# Load the diabetes dataset\n",
        "\n",
        "from sklearn.datasets import load_diabetes\n",
        "\n",
        "diabetes_dataset = load_diabetes()"
      ],
      "execution_count": 2,
      "outputs": []
    },
    {
      "cell_type": "code",
      "metadata": {
        "id": "_mp8MrQyEdw9"
      },
      "source": [
        "# Save the input and target variables\n",
        "\n",
        "from sklearn.model_selection import train_test_split\n",
        "\n",
        "data = diabetes_dataset['data']\n",
        "targets = diabetes_dataset['target']"
      ],
      "execution_count": 3,
      "outputs": []
    },
    {
      "cell_type": "code",
      "metadata": {
        "id": "mHZie6AJEdw_"
      },
      "source": [
        "# Split the data set into training and test sets\n",
        "\n",
        "train_data, test_data, train_targets, test_targets = train_test_split(data, targets, test_size=0.1)"
      ],
      "execution_count": 4,
      "outputs": []
    },
    {
      "cell_type": "markdown",
      "metadata": {
        "id": "TGjnEkhjEdxA"
      },
      "source": [
        "Now we construct our model."
      ]
    },
    {
      "cell_type": "code",
      "metadata": {
        "id": "oHpY3xKDEdxC"
      },
      "source": [
        "# Build the model\n",
        "\n",
        "from tensorflow.keras.models import Sequential\n",
        "from tensorflow.keras.layers import Dense\n",
        "\n",
        "model = tf.keras.Sequential([\n",
        "    Dense(128, activation='relu', input_shape=(train_data.shape[1],)),\n",
        "    Dense(64,activation='relu'),\n",
        "    tf.keras.layers.BatchNormalization(),\n",
        "    Dense(64, activation='relu'),\n",
        "    Dense(64, activation='relu'),\n",
        "    Dense(1)        \n",
        "])"
      ],
      "execution_count": 5,
      "outputs": []
    },
    {
      "cell_type": "markdown",
      "metadata": {
        "id": "0FoNRq2CEdxE"
      },
      "source": [
        "We now compile the model, with\n",
        "* Mean squared error as the loss function,\n",
        "* the Adam optimizer, and \n",
        "* Mean absolute error (`mae`) as a metric."
      ]
    },
    {
      "cell_type": "code",
      "metadata": {
        "id": "wOF-bHrwEdxG"
      },
      "source": [
        "# Compile the model\n",
        "    \n",
        "model.compile(loss='mse', optimizer=\"adam\", metrics=['mae'])"
      ],
      "execution_count": 6,
      "outputs": []
    },
    {
      "cell_type": "markdown",
      "metadata": {
        "id": "X6B-8HcxEdxH"
      },
      "source": [
        "### Defining a custom callback\n",
        "\n",
        "Now we define our custom callback using the `logs` dictionary to access the loss and metric values."
      ]
    },
    {
      "cell_type": "code",
      "metadata": {
        "id": "DfJOMtaFEdxZ"
      },
      "source": [
        "# Create the custom callback\n",
        "\n",
        "class LossAndMetricCallback(tf.keras.callbacks.Callback):\n",
        "\n",
        "    # Print the loss after every second batch in the training set\n",
        "    def on_train_batch_end(self, batch, logs=None):\n",
        "        if batch %2 ==0:\n",
        "            print('\\n After batch {}, the loss is {:7.2f}.'.format(batch, logs['loss']))\n",
        "    \n",
        "    # Print the loss after each batch in the test set\n",
        "    def on_test_batch_end(self, batch, logs=None):\n",
        "        print('\\n After batch {}, the loss is {:7.2f}.'.format(batch, logs['loss']))\n",
        "\n",
        "    # Print the loss and mean absolute error after each epoch\n",
        "    def on_epoch_end(self, epoch, logs=None):\n",
        "        print('Epoch {}: Average loss is {:7.2f}, mean absolute error is {:7.2f}.'.format(epoch, logs['loss'], logs['mae']))\n",
        "    \n",
        "    # Notify the user when prediction has finished on each batch\n",
        "    def on_predict_batch_end(self,batch, logs=None):\n",
        "        print(\"Finished prediction on batch {}!\".format(batch))"
      ],
      "execution_count": 7,
      "outputs": []
    },
    {
      "cell_type": "markdown",
      "metadata": {
        "id": "6nGdEBQbEdxb"
      },
      "source": [
        "We now fit the model to the data, and specify that we would like to use our custom callback `LossAndMetricCallback()`."
      ]
    },
    {
      "cell_type": "code",
      "metadata": {
        "id": "d3QJpvzUEdxd",
        "colab": {
          "base_uri": "https://localhost:8080/"
        },
        "outputId": "6763d06d-7339-4b5b-e958-4b459317ba06"
      },
      "source": [
        "# Train the model\n",
        "\n",
        "history = model.fit(train_data, train_targets, epochs=20,\n",
        "                    batch_size=100, callbacks=[LossAndMetricCallback()], verbose=False)"
      ],
      "execution_count": 8,
      "outputs": [
        {
          "output_type": "stream",
          "text": [
            "\n",
            " After batch 0, the loss is 26091.03.\n",
            "\n",
            " After batch 2, the loss is 27972.29.\n",
            "Epoch 0: Average loss is 29251.55, mean absolute error is  152.65.\n",
            "\n",
            " After batch 0, the loss is 30064.61.\n",
            "\n",
            " After batch 2, the loss is 30305.71.\n",
            "Epoch 1: Average loss is 29080.00, mean absolute error is  152.18.\n",
            "\n",
            " After batch 0, the loss is 23444.95.\n",
            "\n",
            " After batch 2, the loss is 28555.76.\n",
            "Epoch 2: Average loss is 28829.96, mean absolute error is  151.49.\n",
            "\n",
            " After batch 0, the loss is 28616.00.\n",
            "\n",
            " After batch 2, the loss is 30057.77.\n",
            "Epoch 3: Average loss is 28458.06, mean absolute error is  150.45.\n",
            "\n",
            " After batch 0, the loss is 25446.02.\n",
            "\n",
            " After batch 2, the loss is 27871.96.\n",
            "Epoch 4: Average loss is 27921.99, mean absolute error is  148.99.\n",
            "\n",
            " After batch 0, the loss is 30433.94.\n",
            "\n",
            " After batch 2, the loss is 27649.75.\n",
            "Epoch 5: Average loss is 27209.37, mean absolute error is  146.96.\n",
            "\n",
            " After batch 0, the loss is 27039.70.\n",
            "\n",
            " After batch 2, the loss is 27134.30.\n",
            "Epoch 6: Average loss is 26227.56, mean absolute error is  144.18.\n",
            "\n",
            " After batch 0, the loss is 23506.58.\n",
            "\n",
            " After batch 2, the loss is 25989.35.\n",
            "Epoch 7: Average loss is 25015.85, mean absolute error is  140.54.\n",
            "\n",
            " After batch 0, the loss is 24274.84.\n",
            "\n",
            " After batch 2, the loss is 23036.22.\n",
            "Epoch 8: Average loss is 23458.64, mean absolute error is  135.79.\n",
            "\n",
            " After batch 0, the loss is 21041.28.\n",
            "\n",
            " After batch 2, the loss is 22255.16.\n",
            "Epoch 9: Average loss is 21640.88, mean absolute error is  129.71.\n",
            "\n",
            " After batch 0, the loss is 19724.46.\n",
            "\n",
            " After batch 2, the loss is 20312.10.\n",
            "Epoch 10: Average loss is 19497.57, mean absolute error is  122.06.\n",
            "\n",
            " After batch 0, the loss is 18285.66.\n",
            "\n",
            " After batch 2, the loss is 17349.15.\n",
            "Epoch 11: Average loss is 17149.29, mean absolute error is  113.15.\n",
            "\n",
            " After batch 0, the loss is 13609.36.\n",
            "\n",
            " After batch 2, the loss is 14141.42.\n",
            "Epoch 12: Average loss is 14484.21, mean absolute error is  101.65.\n",
            "\n",
            " After batch 0, the loss is 12322.45.\n",
            "\n",
            " After batch 2, the loss is 12628.99.\n",
            "Epoch 13: Average loss is 12051.31, mean absolute error is   90.10.\n",
            "\n",
            " After batch 0, the loss is 7675.13.\n",
            "\n",
            " After batch 2, the loss is 10503.37.\n",
            "Epoch 14: Average loss is 9755.13, mean absolute error is   78.79.\n",
            "\n",
            " After batch 0, the loss is 7592.39.\n",
            "\n",
            " After batch 2, the loss is 8254.92.\n",
            "Epoch 15: Average loss is 7977.88, mean absolute error is   69.47.\n",
            "\n",
            " After batch 0, the loss is 5140.53.\n",
            "\n",
            " After batch 2, the loss is 6235.99.\n",
            "Epoch 16: Average loss is 6480.91, mean absolute error is   61.96.\n",
            "\n",
            " After batch 0, the loss is 6677.86.\n",
            "\n",
            " After batch 2, the loss is 5447.87.\n",
            "Epoch 17: Average loss is 5613.24, mean absolute error is   57.81.\n",
            "\n",
            " After batch 0, the loss is 4799.65.\n",
            "\n",
            " After batch 2, the loss is 5248.48.\n",
            "Epoch 18: Average loss is 5407.67, mean absolute error is   57.37.\n",
            "\n",
            " After batch 0, the loss is 5364.25.\n",
            "\n",
            " After batch 2, the loss is 5094.98.\n",
            "Epoch 19: Average loss is 5460.49, mean absolute error is   59.11.\n"
          ],
          "name": "stdout"
        }
      ]
    },
    {
      "cell_type": "markdown",
      "metadata": {
        "id": "Nlf4BmmREdxe"
      },
      "source": [
        "We can also use our callback in the `evaluate` function..."
      ]
    },
    {
      "cell_type": "code",
      "metadata": {
        "id": "vzZzQIraEdxf",
        "colab": {
          "base_uri": "https://localhost:8080/"
        },
        "outputId": "fa488070-921b-4131-f562-5a8bb0589279"
      },
      "source": [
        "# Evaluate the model\n",
        "\n",
        "model_eval = model.evaluate(test_data, test_targets, batch_size=10, \n",
        "                            callbacks=[LossAndMetricCallback()], verbose=False)"
      ],
      "execution_count": 9,
      "outputs": [
        {
          "output_type": "stream",
          "text": [
            "\n",
            " After batch 0, the loss is 18334.57.\n",
            "\n",
            " After batch 1, the loss is 17735.79.\n",
            "\n",
            " After batch 2, the loss is 18942.02.\n",
            "\n",
            " After batch 3, the loss is 17149.78.\n",
            "\n",
            " After batch 4, the loss is 16455.62.\n"
          ],
          "name": "stdout"
        }
      ]
    },
    {
      "cell_type": "markdown",
      "metadata": {
        "id": "ZeLeyaorEdxg"
      },
      "source": [
        "...And also the `predict` function."
      ]
    },
    {
      "cell_type": "code",
      "metadata": {
        "id": "NAvlWGChEdxh",
        "colab": {
          "base_uri": "https://localhost:8080/"
        },
        "outputId": "b1de453a-0b99-452a-bfb9-0019d84e153c"
      },
      "source": [
        "# Get predictions from the model\n",
        "\n",
        "model_pred = model.predict(test_data, batch_size=10,\n",
        "                           callbacks=[LossAndMetricCallback()], verbose=False)"
      ],
      "execution_count": 10,
      "outputs": [
        {
          "output_type": "stream",
          "text": [
            "Finished prediction on batch 0!\n",
            "Finished prediction on batch 1!\n",
            "Finished prediction on batch 2!\n",
            "Finished prediction on batch 3!\n",
            "Finished prediction on batch 4!\n"
          ],
          "name": "stdout"
        }
      ]
    },
    {
      "cell_type": "markdown",
      "metadata": {
        "id": "BJIEjiEbEdxi"
      },
      "source": [
        "### Application - learning rate scheduler\n",
        "Let's now look at a more sophisticated custom callback. \n",
        "\n",
        "We are going to define a callback to change the learning rate of the optimiser of a model during training. We will do this by specifying the epochs and new learning rates where we would like it to be changed.\n",
        "\n",
        "First we define the auxillary function that returns the learning rate for each epoch based on our schedule."
      ]
    },
    {
      "cell_type": "code",
      "metadata": {
        "id": "ojdBI1xCEdxj"
      },
      "source": [
        "# Define the learning rate schedule. The tuples below are (start_epoch, new_learning_rate)\n",
        "\n",
        "lr_schedule = [\n",
        "    (4, 0.03), (7, 0.02), (11, 0.005), (15, 0.007)\n",
        "]\n",
        "\n",
        "def get_new_epoch_lr(epoch, lr):\n",
        "    # Checks to see if the input epoch is listed in the learning rate schedule \n",
        "    # and if so, returns index in lr_schedule\n",
        "    epoch_in_sched = [i for i in range(len(lr_schedule)) if lr_schedule[i][0]==int(epoch)]\n",
        "    if len(epoch_in_sched)>0:\n",
        "        # If it is, return the learning rate corresponding to the epoch\n",
        "        return lr_schedule[epoch_in_sched[0]][1]\n",
        "    else:\n",
        "        # Otherwise, return the existing learning rate\n",
        "        return lr"
      ],
      "execution_count": 11,
      "outputs": []
    },
    {
      "cell_type": "markdown",
      "metadata": {
        "id": "E7Oh7jzWEdxt"
      },
      "source": [
        "Let's now define the callback itself."
      ]
    },
    {
      "cell_type": "code",
      "metadata": {
        "id": "3dgMZz2REdxv"
      },
      "source": [
        "# Define the custom callback\n",
        "\n",
        "class LRScheduler(tf.keras.callbacks.Callback):\n",
        "    \n",
        "    def __init__(self, new_lr):\n",
        "        super(LRScheduler, self).__init__()\n",
        "        # Add the new learning rate function to our callback\n",
        "        self.new_lr = new_lr\n",
        "\n",
        "    def on_epoch_begin(self, epoch, logs=None):\n",
        "        # Make sure that the optimizer we have chosen has a learning rate, and raise an error if not\n",
        "        if not hasattr(self.model.optimizer, 'lr'):\n",
        "              raise ValueError('Error: Optimizer does not have a learning rate.')\n",
        "                \n",
        "        # Get the current learning rate\n",
        "        curr_rate = float(tf.keras.backend.get_value(self.model.optimizer.lr))\n",
        "        \n",
        "        # Call the auxillary function to get the scheduled learning rate for the current epoch\n",
        "        scheduled_rate = self.new_lr(epoch, curr_rate)\n",
        "\n",
        "        # Set the learning rate to the scheduled learning rate\n",
        "        tf.keras.backend.set_value(self.model.optimizer.lr, scheduled_rate)\n",
        "        print('Learning rate for epoch {} is {:7.3f}'.format(epoch, scheduled_rate))"
      ],
      "execution_count": 12,
      "outputs": []
    },
    {
      "cell_type": "markdown",
      "metadata": {
        "id": "tIitBybfEdx9"
      },
      "source": [
        "Let's now train the model again with our new callback. "
      ]
    },
    {
      "cell_type": "code",
      "metadata": {
        "id": "WwIfdaQVEdx-"
      },
      "source": [
        "# Build the same model as before\n",
        "\n",
        "new_model = tf.keras.Sequential([\n",
        "    Dense(128, activation='relu', input_shape=(train_data.shape[1],)),\n",
        "    Dense(64,activation='relu'),\n",
        "    tf.keras.layers.BatchNormalization(),\n",
        "    Dense(64, activation='relu'),\n",
        "    Dense(64, activation='relu'),\n",
        "    Dense(1)        \n",
        "])"
      ],
      "execution_count": 13,
      "outputs": []
    },
    {
      "cell_type": "code",
      "metadata": {
        "id": "gyLbIa9dEdx_"
      },
      "source": [
        "# Compile the model\n",
        "\n",
        "new_model.compile(loss='mse',\n",
        "                optimizer=\"adam\",\n",
        "                metrics=['mae', 'mse'])"
      ],
      "execution_count": 14,
      "outputs": []
    },
    {
      "cell_type": "code",
      "metadata": {
        "id": "I8oBNmFhEdyB",
        "colab": {
          "base_uri": "https://localhost:8080/"
        },
        "outputId": "40594665-d238-4e9c-99b3-f2673f921cda"
      },
      "source": [
        "# Fit the model with our learning rate scheduler callback\n",
        "\n",
        "new_history = new_model.fit(train_data, train_targets, epochs=20,\n",
        "                            batch_size=100, callbacks=[LRScheduler(get_new_epoch_lr)], verbose=False)"
      ],
      "execution_count": 15,
      "outputs": [
        {
          "output_type": "stream",
          "text": [
            "Learning rate for epoch 0 is   0.001\n",
            "Learning rate for epoch 1 is   0.001\n",
            "Learning rate for epoch 2 is   0.001\n",
            "Learning rate for epoch 3 is   0.001\n",
            "Learning rate for epoch 4 is   0.030\n",
            "Learning rate for epoch 5 is   0.030\n",
            "Learning rate for epoch 6 is   0.030\n",
            "Learning rate for epoch 7 is   0.020\n",
            "Learning rate for epoch 8 is   0.020\n",
            "Learning rate for epoch 9 is   0.020\n",
            "Learning rate for epoch 10 is   0.020\n",
            "Learning rate for epoch 11 is   0.005\n",
            "Learning rate for epoch 12 is   0.005\n",
            "Learning rate for epoch 13 is   0.005\n",
            "Learning rate for epoch 14 is   0.005\n",
            "Learning rate for epoch 15 is   0.007\n",
            "Learning rate for epoch 16 is   0.007\n",
            "Learning rate for epoch 17 is   0.007\n",
            "Learning rate for epoch 18 is   0.007\n",
            "Learning rate for epoch 19 is   0.007\n"
          ],
          "name": "stdout"
        }
      ]
    },
    {
      "cell_type": "markdown",
      "metadata": {
        "id": "79cQencqEdyB"
      },
      "source": [
        "### Further reading and resources\n",
        "* https://www.tensorflow.org/guide/keras/custom_callback\n",
        "* https://www.tensorflow.org/api_docs/python/tf/keras/callbacks/Callback"
      ]
    }
  ]
}