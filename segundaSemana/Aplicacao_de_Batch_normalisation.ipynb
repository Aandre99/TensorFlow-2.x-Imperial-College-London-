{
  "nbformat": 4,
  "nbformat_minor": 0,
  "metadata": {
    "kernelspec": {
      "display_name": "Python 3",
      "language": "python",
      "name": "python3"
    },
    "language_info": {
      "codemirror_mode": {
        "name": "ipython",
        "version": 3
      },
      "file_extension": ".py",
      "mimetype": "text/x-python",
      "name": "python",
      "nbconvert_exporter": "python",
      "pygments_lexer": "ipython3",
      "version": "3.7.1"
    },
    "colab": {
      "name": "Aplicação_de_Batch_normalisation.ipynb",
      "provenance": []
    }
  },
  "cells": [
    {
      "cell_type": "markdown",
      "metadata": {
        "id": "Qbp_XdJL4RYH"
      },
      "source": [
        "# Batch normalisation layers\n",
        "\n",
        "In this reading we will look at incorporating batch normalisation into our models and look at an example of how we do this in practice.\n",
        "\n",
        "As usual, let's first import tensorflow."
      ]
    },
    {
      "cell_type": "code",
      "metadata": {
        "id": "TD9TMVtU4RYP",
        "colab": {
          "base_uri": "https://localhost:8080/"
        },
        "outputId": "82015e77-5203-44fe-8cc0-ff7cedc26c0f"
      },
      "source": [
        "import tensorflow as tf\n",
        "print(tf.__version__)"
      ],
      "execution_count": 1,
      "outputs": [
        {
          "output_type": "stream",
          "text": [
            "2.5.0\n"
          ],
          "name": "stdout"
        }
      ]
    },
    {
      "cell_type": "markdown",
      "metadata": {
        "id": "xR7VxFaJ4RYR"
      },
      "source": [
        "We will be working with the diabetes dataset that we have been using in this week's screencasts. \n",
        "\n",
        "Let's load and pre-process the dataset."
      ]
    },
    {
      "cell_type": "code",
      "metadata": {
        "id": "d5GNvDvx4RYT"
      },
      "source": [
        "# Load the dataset\n",
        "\n",
        "from sklearn.datasets import load_diabetes\n",
        "diabetes_dataset = load_diabetes()"
      ],
      "execution_count": 2,
      "outputs": []
    },
    {
      "cell_type": "code",
      "metadata": {
        "id": "megVoSix4RYU"
      },
      "source": [
        "# Save the input and target variables\n",
        "\n",
        "from sklearn.model_selection import train_test_split\n",
        "\n",
        "data = diabetes_dataset['data']\n",
        "targets = diabetes_dataset['target']"
      ],
      "execution_count": 3,
      "outputs": []
    },
    {
      "cell_type": "code",
      "metadata": {
        "id": "-Er4FaDU4RYV"
      },
      "source": [
        "# Normalise the target data (this will make clearer training curves)\n",
        "\n",
        "targets = (targets - targets.mean(axis=0)) / (targets.std())"
      ],
      "execution_count": 4,
      "outputs": []
    },
    {
      "cell_type": "code",
      "metadata": {
        "id": "k9GPyE0W4RYW"
      },
      "source": [
        "# Split the dataset into training and test datasets \n",
        "\n",
        "train_data, test_data, train_targets, test_targets = train_test_split(data, targets, test_size=0.1)"
      ],
      "execution_count": 5,
      "outputs": []
    },
    {
      "cell_type": "markdown",
      "metadata": {
        "id": "JgGTGYFQ4RYY"
      },
      "source": [
        "### Batch normalisation - Defining the model"
      ]
    },
    {
      "cell_type": "markdown",
      "metadata": {
        "id": "geZIv9T_4RYZ"
      },
      "source": [
        "We can implement batch normalisation into our model by adding it in the same way as any other layer."
      ]
    },
    {
      "cell_type": "code",
      "metadata": {
        "id": "lB8BfF8t4RYb"
      },
      "source": [
        "from tensorflow.keras.models import Sequential\n",
        "from tensorflow.keras.layers import Flatten, Dense, Conv2D, MaxPooling2D, BatchNormalization, Dropout"
      ],
      "execution_count": 6,
      "outputs": []
    },
    {
      "cell_type": "code",
      "metadata": {
        "id": "6d359EtY4RYc"
      },
      "source": [
        "# Build the model\n",
        "\n",
        "model = Sequential([\n",
        "    Dense(64, input_shape=[train_data.shape[1],], activation=\"relu\"),\n",
        "    BatchNormalization(),  # <- Batch normalisation layer\n",
        "    Dropout(0.5),\n",
        "    BatchNormalization(),  # <- Batch normalisation layer\n",
        "    Dropout(0.5),\n",
        "    Dense(256, activation='relu'),\n",
        "])\n",
        "\n",
        "# NB: We have not added the output layer because we still have more layers to add!"
      ],
      "execution_count": 7,
      "outputs": []
    },
    {
      "cell_type": "code",
      "metadata": {
        "scrolled": true,
        "id": "eRK3ENoW4RYd",
        "colab": {
          "base_uri": "https://localhost:8080/"
        },
        "outputId": "4c7a3547-ace5-4308-b2e3-4f50b068591c"
      },
      "source": [
        "# Print the model summary\n",
        "\n",
        "model.summary()"
      ],
      "execution_count": 8,
      "outputs": [
        {
          "output_type": "stream",
          "text": [
            "Model: \"sequential\"\n",
            "_________________________________________________________________\n",
            "Layer (type)                 Output Shape              Param #   \n",
            "=================================================================\n",
            "dense (Dense)                (None, 64)                704       \n",
            "_________________________________________________________________\n",
            "batch_normalization (BatchNo (None, 64)                256       \n",
            "_________________________________________________________________\n",
            "dropout (Dropout)            (None, 64)                0         \n",
            "_________________________________________________________________\n",
            "batch_normalization_1 (Batch (None, 64)                256       \n",
            "_________________________________________________________________\n",
            "dropout_1 (Dropout)          (None, 64)                0         \n",
            "_________________________________________________________________\n",
            "dense_1 (Dense)              (None, 256)               16640     \n",
            "=================================================================\n",
            "Total params: 17,856\n",
            "Trainable params: 17,600\n",
            "Non-trainable params: 256\n",
            "_________________________________________________________________\n"
          ],
          "name": "stdout"
        }
      ]
    },
    {
      "cell_type": "markdown",
      "metadata": {
        "id": "D2uekFMA4RYe"
      },
      "source": [
        "Recall that there are some parameters and hyperparameters associated with batch normalisation.\n",
        "\n",
        "* The hyperparameter **momentum** is the weighting given to the previous running mean when re-computing it with an extra minibatch. By **default**, it is set to 0.99.\n",
        "\n",
        "* The hyperparameter **$\\epsilon$** is used for numeric stability when performing the normalisation over the minibatch. By **default** it is set to 0.001.\n",
        "\n",
        "* The parameters **$\\beta$** and **$\\gamma$** are used to implement an affine transformation after normalisation. By **default**, $\\beta$ is an all-zeros vector, and $\\gamma$ is an all-ones vector.\n",
        "\n",
        "### Customising parameters\n",
        "These can all be changed (along with various other properties) by adding optional arguments to `tf.keras.layers.BatchNormalization()`.\n",
        "\n",
        "We can also specify the axis for batch normalisation. By default, it is set as -1.\n",
        "\n",
        "Let's see an example."
      ]
    },
    {
      "cell_type": "code",
      "metadata": {
        "id": "KWOMT4qr4RYg"
      },
      "source": [
        "# Add a customised batch normalisation layer\n",
        "\n",
        "model.add(tf.keras.layers.BatchNormalization(\n",
        "    momentum=0.95, \n",
        "    epsilon=0.005,\n",
        "    axis = -1,\n",
        "    beta_initializer=tf.keras.initializers.RandomNormal(mean=0.0, stddev=0.05), \n",
        "    gamma_initializer=tf.keras.initializers.Constant(value=0.9)\n",
        "))"
      ],
      "execution_count": 9,
      "outputs": []
    },
    {
      "cell_type": "code",
      "metadata": {
        "id": "gOLSpQSZ4RYh"
      },
      "source": [
        "# Add the output layer\n",
        "\n",
        "model.add(Dense(1))"
      ],
      "execution_count": 10,
      "outputs": []
    },
    {
      "cell_type": "markdown",
      "metadata": {
        "id": "7P0xprIm4RYi"
      },
      "source": [
        "## Compile and fit the model"
      ]
    },
    {
      "cell_type": "markdown",
      "metadata": {
        "id": "VT9bKvo54RYj"
      },
      "source": [
        "Let's now compile and fit our model with batch normalisation, and track the progress on training and validation sets.\n",
        "\n",
        "First we compile our model."
      ]
    },
    {
      "cell_type": "code",
      "metadata": {
        "id": "ZWjsxnc04RYj"
      },
      "source": [
        "# Compile the model\n",
        "\n",
        "model.compile(optimizer='adam',\n",
        "              loss='mse',\n",
        "              metrics=['mae'])"
      ],
      "execution_count": 11,
      "outputs": []
    },
    {
      "cell_type": "markdown",
      "metadata": {
        "id": "VhivOWmm4RYk"
      },
      "source": [
        "Now we fit the model to the data."
      ]
    },
    {
      "cell_type": "code",
      "metadata": {
        "id": "1wPlSixZ4RYl"
      },
      "source": [
        "# Train the model\n",
        "\n",
        "history = model.fit(train_data, train_targets, epochs=100, validation_split=0.15, batch_size=64,verbose=False)"
      ],
      "execution_count": 12,
      "outputs": []
    },
    {
      "cell_type": "markdown",
      "metadata": {
        "id": "7Js8ymP_4RYm"
      },
      "source": [
        "Finally, we plot training and validation loss and accuracy to observe how the accuracy of our model improves over time."
      ]
    },
    {
      "cell_type": "code",
      "metadata": {
        "id": "q9luRiTh4RYm",
        "colab": {
          "base_uri": "https://localhost:8080/",
          "height": 312
        },
        "outputId": "e3b27e71-1903-461b-e67b-ae1ed14a031b"
      },
      "source": [
        "# Plot the learning curves\n",
        "\n",
        "import pandas as pd\n",
        "import numpy as np\n",
        "import matplotlib.pyplot as plt\n",
        "%matplotlib inline\n",
        "\n",
        "frame = pd.DataFrame(history.history)\n",
        "epochs = np.arange(len(frame))\n",
        "\n",
        "fig = plt.figure(figsize=(12,4))\n",
        "\n",
        "# Loss plot\n",
        "ax = fig.add_subplot(121)\n",
        "ax.plot(epochs, frame['loss'], label=\"Train\")\n",
        "ax.plot(epochs, frame['val_loss'], label=\"Validation\")\n",
        "ax.set_xlabel(\"Epochs\")\n",
        "ax.set_ylabel(\"Loss\")\n",
        "ax.set_title(\"Loss vs Epochs\")\n",
        "ax.legend()\n",
        "\n",
        "# Accuracy plot\n",
        "ax = fig.add_subplot(122)\n",
        "ax.plot(epochs, frame['mae'], label=\"Train\")\n",
        "ax.plot(epochs, frame['val_mae'], label=\"Validation\")\n",
        "ax.set_xlabel(\"Epochs\")\n",
        "ax.set_ylabel(\"Mean Absolute Error\")\n",
        "ax.set_title(\"Mean Absolute Error vs Epochs\")\n",
        "ax.legend()"
      ],
      "execution_count": 13,
      "outputs": [
        {
          "output_type": "execute_result",
          "data": {
            "text/plain": [
              "<matplotlib.legend.Legend at 0x7f95015e3e50>"
            ]
          },
          "metadata": {
            "tags": []
          },
          "execution_count": 13
        },
        {
          "output_type": "display_data",
          "data": {
            "image/png": "[encoded data removed]",
            "text/plain": [
              "<Figure size 864x288 with 2 Axes>"
            ]
          },
          "metadata": {
            "tags": [],
            "needs_background": "light"
          }
        }
      ]
    },
    {
      "cell_type": "markdown",
      "metadata": {
        "id": "y6sNwEW_4RYo"
      },
      "source": [
        "## Further reading and resources \n",
        "* https://keras.io/layers/normalization/\n",
        "* https://www.tensorflow.org/versions/r2.0/api_docs/python/tf/keras/layers/BatchNormalization"
      ]
    }
  ]
}